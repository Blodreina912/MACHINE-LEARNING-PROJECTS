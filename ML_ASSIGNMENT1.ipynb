{
  "nbformat": 4,
  "nbformat_minor": 0,
  "metadata": {
    "colab": {
      "provenance": [],
      "authorship_tag": "ABX9TyN6wz+0glTl+ySNDbaygTaQ",
      "include_colab_link": true
    },
    "kernelspec": {
      "name": "python3",
      "display_name": "Python 3"
    },
    "language_info": {
      "name": "python"
    }
  },
  "cells": [
    {
      "cell_type": "markdown",
      "metadata": {
        "id": "view-in-github",
        "colab_type": "text"
      },
      "source": [
        "<a href=\"https://colab.research.google.com/github/Blodreina912/MACHINE-LEARNING-PROJECTS/blob/main/ML_ASSIGNMENT1.ipynb\" target=\"_parent\"><img src=\"https://colab.research.google.com/assets/colab-badge.svg\" alt=\"Open In Colab\"/></a>"
      ]
    },
    {
      "cell_type": "code",
      "source": [],
      "metadata": {
        "id": "OMRCFneh1Gl1"
      },
      "execution_count": null,
      "outputs": []
    },
    {
      "cell_type": "code",
      "execution_count": null,
      "metadata": {
        "colab": {
          "base_uri": "https://localhost:8080/"
        },
        "id": "_ya2gTiTttZ3",
        "outputId": "4d5230ec-1c89-4139-83ce-66ad1270904a"
      },
      "outputs": [
        {
          "output_type": "stream",
          "name": "stdout",
          "text": [
            "DATABASE AFTER HANDLING MISSING VALUES\n",
            "   Country        Age        Salary Purchased\n",
            "0   France  44.000000  72000.000000        No\n",
            "1    Spain  27.000000  48000.000000       Yes\n",
            "2  Germany  30.000000  54000.000000        No\n",
            "3    Spain  38.000000  61000.000000        No\n",
            "4  Germany  40.000000  63777.777778       Yes\n",
            "5   France  35.000000  58000.000000       Yes\n",
            "6    Spain  38.777778  52000.000000        No\n",
            "7   France  48.000000  79000.000000       Yes\n",
            "8  Germany  50.000000  83000.000000        No\n",
            "9   France  37.000000  67000.000000       Yes\n",
            "DATABASE AFTER LABEL ENCODING\n",
            "   Country        Age        Salary  Purchased\n",
            "0   France  44.000000  72000.000000          0\n",
            "1    Spain  27.000000  48000.000000          1\n",
            "2  Germany  30.000000  54000.000000          0\n",
            "3    Spain  38.000000  61000.000000          0\n",
            "4  Germany  40.000000  63777.777778          1\n",
            "5   France  35.000000  58000.000000          1\n",
            "6    Spain  38.777778  52000.000000          0\n",
            "7   France  48.000000  79000.000000          1\n",
            "8  Germany  50.000000  83000.000000          0\n",
            "9   France  37.000000  67000.000000          1\n"
          ]
        }
      ],
      "source": [
        "import pandas as pd\n",
        "import numpy as np\n",
        "from sklearn.impute import SimpleImputer\n",
        "from sklearn.preprocessing import LabelEncoder, OneHotEncoder, StandardScaler\n",
        "from sklearn.compose import ColumnTransformer\n",
        "from sklearn.model_selection import train_test_split\n",
        "data = {\n",
        "    'Country': ['France', 'Spain', 'Germany', 'Spain', 'Germany', 'France', 'Spain', 'France', 'Germany', 'France'],\n",
        "    'Age': [44, 27, 30, 38, 40, 35, np.nan, 48, 50, 37],\n",
        "    'Salary': [72000, 48000, 54000, 61000, np.nan, 58000, 52000, 79000, 83000, 67000],\n",
        "    'Purchased': ['No', 'Yes', 'No', 'No', 'Yes', 'Yes', 'No', 'Yes', 'No', 'Yes']\n",
        "}\n",
        "df = pd.DataFrame(data)\n",
        "imputer = SimpleImputer(strategy='mean')\n",
        "df[['Age', 'Salary']] = imputer.fit_transform(df[['Age', 'Salary']])\n",
        "print(\"DATABASE AFTER HANDLING MISSING VALUES\")\n",
        "print(df)\n",
        "\n",
        "le = LabelEncoder()\n",
        "df['Purchased'] = le.fit_transform(df['Purchased'])  # No -> 0, Yes -> 1\n",
        "print(\"DATABASE AFTER LABEL ENCODING\")\n",
        "print(df)\n",
        "\n",
        "\n",
        "\n",
        "\n"
      ]
    }
  ]
}